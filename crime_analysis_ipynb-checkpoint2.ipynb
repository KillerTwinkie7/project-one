{
 "cells": [
  {
   "cell_type": "code",
   "execution_count": 20,
   "id": "16186a6e-7567-4f0b-b58a-3ab4a66af126",
   "metadata": {},
   "outputs": [],
   "source": [
    "import csv\n",
    "import os\n",
    "import numpy as np\n",
    "import pandas as pd\n",
    "import matplotlib.pyplot as plt"
   ]
  },
  {
   "cell_type": "code",
   "execution_count": 21,
   "id": "ed08daa0-0fdb-4207-9b8a-2472bf0d1b47",
   "metadata": {},
   "outputs": [],
   "source": [
    "cl_path = \"C:/Users/cynth/project-one/data/crime_data.csv\""
   ]
  },
  {
   "cell_type": "code",
   "execution_count": 22,
   "id": "c4937ec2-c520-4f63-a3e5-1fe8398b625e",
   "metadata": {},
   "outputs": [],
   "source": [
    "def make_df(cl_path): # Reads the csv file in and makes it a DataFrame\n",
    "    df = pd.read_csv(cl_path, low_memory=False)\n",
    "    return df"
   ]
  },
  {
   "cell_type": "code",
   "execution_count": 23,
   "id": "f60461c3-4963-4c3d-b98f-9bed7d79c427",
   "metadata": {},
   "outputs": [],
   "source": [
    "directory = os.path.dirname(cl_path)"
   ]
  },
  {
   "cell_type": "code",
   "execution_count": 24,
   "id": "1d71d247-b6d6-44f1-9d82-1810c4fbee63",
   "metadata": {},
   "outputs": [],
   "source": [
    "dir_string = str(directory) + \"/crime_data.csv\""
   ]
  },
  {
   "cell_type": "code",
   "execution_count": 25,
   "id": "c1074835-bc86-4294-be08-4c4a9bf8de50",
   "metadata": {},
   "outputs": [],
   "source": [
    "#path = os.path.realpath(__file__)\n",
    "#directory = os.path.dirname(path)\n",
    "#dir_string = str(directory) + \"/data/crime_data.csv\""
   ]
  },
  {
   "cell_type": "code",
   "execution_count": 26,
   "id": "cd847fc7-6586-4197-a379-834572658f10",
   "metadata": {},
   "outputs": [],
   "source": [
    "all_data_df = make_df(dir_string)"
   ]
  },
  {
   "cell_type": "code",
   "execution_count": 27,
   "id": "28f4222a-70d5-4f19-a6ba-1d575d338d84",
   "metadata": {},
   "outputs": [],
   "source": [
    "date_crime = pd.concat([all_data_df['Occurred Date'], all_data_df['Highest Offense Description']], axis=1)"
   ]
  },
  {
   "cell_type": "code",
   "execution_count": 28,
   "id": "94e19d47-32cd-4d7f-a95b-2700c38a721a",
   "metadata": {},
   "outputs": [],
   "source": [
    "crimes = date_crime['Highest Offense Description'].unique()"
   ]
  },
  {
   "cell_type": "code",
   "execution_count": 29,
   "id": "a016e201-f769-490f-b447-c802b94d55c1",
   "metadata": {},
   "outputs": [],
   "source": [
    "filtered_theft_crime = date_crime[date_crime['Highest Offense Description'].str.contains('theft', case=False)]"
   ]
  },
  {
   "cell_type": "code",
   "execution_count": 30,
   "id": "40a173df-43d1-48f1-960d-096d596ae9b6",
   "metadata": {},
   "outputs": [],
   "source": [
    "filtered_burgl_crime = date_crime[date_crime['Highest Offense Description'].str.contains('burglary', case=False)]"
   ]
  },
  {
   "cell_type": "code",
   "execution_count": 31,
   "id": "3aba1769-6980-483e-9359-ffbd18ad9b1f",
   "metadata": {},
   "outputs": [],
   "source": [
    "all_theft_crimes = pd.concat([filtered_theft_crime, filtered_burgl_crime], ignore_index=True)"
   ]
  },
  {
   "cell_type": "code",
   "execution_count": 32,
   "id": "09068dd6-807c-4b30-9bf5-b565ac47df89",
   "metadata": {},
   "outputs": [],
   "source": [
    "all_theft_crimes['Occurred Date'] = pd.to_datetime(all_theft_crimes['Occurred Date'], format='mixed')"
   ]
  },
  {
   "cell_type": "code",
   "execution_count": 33,
   "id": "b161d867-0f99-4e8b-8fdf-af23cf8c098a",
   "metadata": {},
   "outputs": [],
   "source": [
    "all_theft_crimes['Season'] = pd.cut(\n",
    "    all_theft_crimes['Occurred Date'].dt.dayofyear,\n",
    "    bins= [0, 79, 171, 264, 355, 365],\n",
    "    labels=['Winter', 'Spring', 'Summer', 'Fall', 'Winter'],\n",
    "    ordered=False)"
   ]
  },
  {
   "cell_type": "code",
   "execution_count": 34,
   "id": "cb40414e-d027-4f3b-9b33-de70ce81a9ac",
   "metadata": {},
   "outputs": [],
   "source": [
    "season_theft_crimes = all_theft_crimes.drop(columns=['Occurred Date'])"
   ]
  },
  {
   "cell_type": "code",
   "execution_count": null,
   "id": "900200d3-4d82-4001-848c-baaacfbd5232",
   "metadata": {},
   "outputs": [],
   "source": [
    "all_theft_crimes.head()"
   ]
  },
  {
   "cell_type": "code",
   "execution_count": 103,
   "id": "b807efc7-a159-4fbf-b336-1f3f9c15e155",
   "metadata": {},
   "outputs": [
    {
     "data": {
      "text/html": [
       "<div>\n",
       "<style scoped>\n",
       "    .dataframe tbody tr th:only-of-type {\n",
       "        vertical-align: middle;\n",
       "    }\n",
       "\n",
       "    .dataframe tbody tr th {\n",
       "        vertical-align: top;\n",
       "    }\n",
       "\n",
       "    .dataframe thead th {\n",
       "        text-align: right;\n",
       "    }\n",
       "</style>\n",
       "<table border=\"1\" class=\"dataframe\">\n",
       "  <thead>\n",
       "    <tr style=\"text-align: right;\">\n",
       "      <th></th>\n",
       "      <th>Highest Offense Description</th>\n",
       "      <th>Season</th>\n",
       "    </tr>\n",
       "  </thead>\n",
       "  <tbody>\n",
       "    <tr>\n",
       "      <th>0</th>\n",
       "      <td>IDENTITY THEFT</td>\n",
       "      <td>Fall</td>\n",
       "    </tr>\n",
       "    <tr>\n",
       "      <th>1</th>\n",
       "      <td>THEFT</td>\n",
       "      <td>Fall</td>\n",
       "    </tr>\n",
       "    <tr>\n",
       "      <th>2</th>\n",
       "      <td>THEFT</td>\n",
       "      <td>Fall</td>\n",
       "    </tr>\n",
       "    <tr>\n",
       "      <th>3</th>\n",
       "      <td>THEFT</td>\n",
       "      <td>Winter</td>\n",
       "    </tr>\n",
       "    <tr>\n",
       "      <th>4</th>\n",
       "      <td>THEFT</td>\n",
       "      <td>Fall</td>\n",
       "    </tr>\n",
       "  </tbody>\n",
       "</table>\n",
       "</div>"
      ],
      "text/plain": [
       "  Highest Offense Description  Season\n",
       "0              IDENTITY THEFT    Fall\n",
       "1                       THEFT    Fall\n",
       "2                       THEFT    Fall\n",
       "3                       THEFT  Winter\n",
       "4                       THEFT    Fall"
      ]
     },
     "execution_count": 103,
     "metadata": {},
     "output_type": "execute_result"
    }
   ],
   "source": [
    "season_theft_crimes.head()"
   ]
  },
  {
   "cell_type": "code",
   "execution_count": 72,
   "id": "d543294b-ed30-447d-a5cd-bac3e3d6cba4",
   "metadata": {},
   "outputs": [
    {
     "name": "stdout",
     "output_type": "stream",
     "text": [
      "Index(['Highest Offense Description', 'Season'], dtype='object')\n"
     ]
    }
   ],
   "source": [
    "column_names = season_theft_crimes.columns\n",
    "\n",
    "# Print column names\n",
    "print(column_names)"
   ]
  },
  {
   "cell_type": "code",
   "execution_count": 104,
   "id": "909a5704-71d7-4859-8f5e-d4f9b0a8f8c5",
   "metadata": {},
   "outputs": [
    {
     "data": {
      "text/html": [
       "<div>\n",
       "<style scoped>\n",
       "    .dataframe tbody tr th:only-of-type {\n",
       "        vertical-align: middle;\n",
       "    }\n",
       "\n",
       "    .dataframe tbody tr th {\n",
       "        vertical-align: top;\n",
       "    }\n",
       "\n",
       "    .dataframe thead th {\n",
       "        text-align: right;\n",
       "    }\n",
       "</style>\n",
       "<table border=\"1\" class=\"dataframe\">\n",
       "  <thead>\n",
       "    <tr style=\"text-align: right;\">\n",
       "      <th></th>\n",
       "      <th>Season</th>\n",
       "    </tr>\n",
       "    <tr>\n",
       "      <th>Highest Offense Description</th>\n",
       "      <th></th>\n",
       "    </tr>\n",
       "  </thead>\n",
       "  <tbody>\n",
       "    <tr>\n",
       "      <th>ATT AUTO THEFT</th>\n",
       "      <td>307</td>\n",
       "    </tr>\n",
       "    <tr>\n",
       "      <th>ATT BURGLARY NON RESIDENCE</th>\n",
       "      <td>156</td>\n",
       "    </tr>\n",
       "    <tr>\n",
       "      <th>ATT BURGLARY OF RESIDENCE</th>\n",
       "      <td>457</td>\n",
       "    </tr>\n",
       "    <tr>\n",
       "      <th>ATT THEFT</th>\n",
       "      <td>206</td>\n",
       "    </tr>\n",
       "    <tr>\n",
       "      <th>AUTO THEFT</th>\n",
       "      <td>61139</td>\n",
       "    </tr>\n",
       "  </tbody>\n",
       "</table>\n",
       "</div>"
      ],
      "text/plain": [
       "                             Season\n",
       "Highest Offense Description        \n",
       "ATT AUTO THEFT                  307\n",
       "ATT BURGLARY NON RESIDENCE      156\n",
       "ATT BURGLARY OF RESIDENCE       457\n",
       "ATT THEFT                       206\n",
       "AUTO THEFT                    61139"
      ]
     },
     "execution_count": 104,
     "metadata": {},
     "output_type": "execute_result"
    }
   ],
   "source": [
    "season_theft_crimes_count = season_theft_crimes.groupby('Highest Offense Description').count()\n",
    "season_theft_crimes_count.head()"
   ]
  },
  {
   "cell_type": "code",
   "execution_count": 105,
   "id": "8470c28f-7db4-4970-9877-643dd4e24b35",
   "metadata": {},
   "outputs": [
    {
     "name": "stdout",
     "output_type": "stream",
     "text": [
      "Index(['Season'], dtype='object')\n"
     ]
    }
   ],
   "source": [
    "column_names = season_theft_crimes_count.columns\n",
    "\n",
    "# Print column names\n",
    "print(column_names)"
   ]
  },
  {
   "cell_type": "code",
   "execution_count": 74,
   "id": "15e0961a-cf53-4f11-933d-12990f4059a0",
   "metadata": {},
   "outputs": [
    {
     "name": "stdout",
     "output_type": "stream",
     "text": [
      "Highest Offense Description\n",
      "BURGLARY OF VEHICLE                              254167\n",
      "THEFT                                            229451\n",
      "BURGLARY OF RESIDENCE                             82077\n",
      "AUTO THEFT                                        61170\n",
      "THEFT BY SHOPLIFTING                              54376\n",
      "BURGLARY NON RESIDENCE                            41154\n",
      "IDENTITY THEFT                                    28744\n",
      "THEFT OF BICYCLE                                  24192\n",
      "THEFT OF SERVICE                                  14903\n",
      "THEFT FROM AUTO                                   10730\n",
      "THEFT OF LICENSE PLATE                            10052\n",
      "THEFT FROM PERSON                                  9123\n",
      "BURGLARY OF VEH-NO SUSPECT/FU                      8503\n",
      "MAIL THEFT                                         6973\n",
      "BURGLARY OF SHED/DETACHED GARAGE/STORAGE UNIT      6205\n",
      "THEFT OF AUTO PARTS                                5455\n",
      "THEFT CATALYTIC CONVERTER                          4917\n",
      "THEFT OF TRAILER                                   3946\n",
      "THEFT FROM BUILDING                                3847\n",
      "BURGLARY OF COIN-OP MACHINE                        2890\n",
      "THEFT OF METAL                                     2746\n",
      "THEFT-NO SUSPECT/FOLLOWUP                           573\n",
      "ATT BURGLARY OF RESIDENCE                           457\n",
      "THEFT BY EMBEZZLEMENT                               364\n",
      "THEFT OF HEAVY EQUIPMENT                            364\n",
      "ATT AUTO THEFT                                      307\n",
      "IDENTITY THEFT-TAX RETURNS                          293\n",
      "THEFT- APPROPRIATE STOLEN PROP                      283\n",
      "THEFT BY FALSE PRETEXT/BUNCO                        220\n",
      "ATT THEFT                                           207\n",
      "ATT BURGLARY NON RESIDENCE                          156\n",
      "THEFT BY EXTORTION                                  118\n",
      "THEFT BY PUBLIC SERVANT                              78\n",
      "THEFT OF TELECOMMUNICATION SRV                       72\n",
      "THEFT/TILL TAPPING                                   64\n",
      "THEFT OF CRYPTOCURRENCY                               5\n",
      "Name: count, dtype: int64\n"
     ]
    }
   ],
   "source": [
    "value_counts = season_theft_crimes['Highest Offense Description'].value_counts()\n",
    "\n",
    "# Print the value counts\n",
    "print(value_counts)"
   ]
  },
  {
   "cell_type": "code",
   "execution_count": 94,
   "id": "19002bd5-9f1f-4c24-8df9-a3e96bde7267",
   "metadata": {},
   "outputs": [
    {
     "name": "stdout",
     "output_type": "stream",
     "text": [
      "data_structure is a Series\n"
     ]
    }
   ],
   "source": [
    "series = pd.Series(value_counts)\n",
    "\n",
    "# Check if it's a Series using isinstance()\n",
    "if isinstance(value_counts, pd.Series):\n",
    "  print(\"data_structure is a Series\")\n",
    "else:\n",
    "  print(\"data_structure is not a Series\")"
   ]
  },
  {
   "cell_type": "code",
   "execution_count": 123,
   "id": "3eb6c034-863a-4e74-9f4b-a8ee4e7de476",
   "metadata": {},
   "outputs": [
    {
     "data": {
      "image/png": "[encoded data removed]",
      "text/plain": [
       "<Figure size 800x600 with 1 Axes>"
      ]
     },
     "metadata": {},
     "output_type": "display_data"
    }
   ],
   "source": [
    "# Transpose the Series (swap rows and columns)\n",
    "transposed_data = filtered_value_counts.transpose()\n",
    "\n",
    "\n",
    "# Create the bar chart\n",
    "plt.figure(figsize=(8, 6))  # Optional: Set figure size\n",
    "transposed_data.plot(kind='bar', color='lightblue')  # color argument is optional\n",
    "\n",
    "# Rotate x-axis labels for better readability\n",
    "plt.xticks(rotation=45)  # Set rotation angle (adjust as needed)\n",
    "\n",
    "# Add labels and title (optional)\n",
    "plt.xlabel('Type of Theft')  # Adjust label based on your Series\n",
    "plt.ylabel('Occurances (Index)')\n",
    "plt.title('Rank of Highest Reported Types of Theft for the Last 20 Years')\n",
    "\n",
    "# Customize x-axis ticks and grid (optional)\n",
    "#plt.xticks(rotation=0)  # Rotate x-axis labels for better readability\n",
    "#plt.grid(axis='y', linestyle='--', alpha=0.6)  # Add dashed grid lines on y-axis\n",
    "\n",
    "# Display the chart\n",
    "plt.tight_layout()  # Adjust spacing for better presentation\n",
    "plt.show()"
   ]
  },
  {
   "cell_type": "code",
   "execution_count": 119,
   "id": "263b6ead-20fc-4aaf-abe0-e06938820f51",
   "metadata": {},
   "outputs": [
    {
     "name": "stdout",
     "output_type": "stream",
     "text": [
      "Highest Offense Description\n",
      "BURGLARY OF VEHICLE       254167\n",
      "THEFT                     229451\n",
      "BURGLARY OF RESIDENCE      82077\n",
      "AUTO THEFT                 61170\n",
      "THEFT BY SHOPLIFTING       54376\n",
      "BURGLARY NON RESIDENCE     41154\n",
      "IDENTITY THEFT             28744\n",
      "THEFT OF BICYCLE           24192\n",
      "THEFT OF SERVICE           14903\n",
      "THEFT FROM AUTO            10730\n",
      "THEFT OF LICENSE PLATE     10052\n",
      "Name: count, dtype: int64\n"
     ]
    }
   ],
   "source": [
    "filtered_value_counts = value_counts[value_counts > 10000]\n",
    "\n",
    "# Print the filtered Series\n",
    "print(filtered_value_counts)"
   ]
  },
  {
   "cell_type": "code",
   "execution_count": 108,
   "id": "7e406b74-a1cd-4d4c-a865-45ad06cefa9f",
   "metadata": {},
   "outputs": [],
   "source": [
    "# Convert Series to DataFrame (assuming index as category labels)\n",
    "#value_counts_df = value_counts.to_frame(name='No. of Reported Occurences')\n",
    "#value_counts_df.head()"
   ]
  },
  {
   "cell_type": "code",
   "execution_count": 109,
   "id": "7d2dcf75-912a-4b93-a076-ed7f767221e9",
   "metadata": {},
   "outputs": [],
   "source": [
    "#column_names = season_theft_crimes.columns\n",
    "\n",
    "# Print column names\n",
    "#print(column_names)"
   ]
  },
  {
   "cell_type": "code",
   "execution_count": 45,
   "id": "005d716f-0798-47cc-be4f-85245f7853d0",
   "metadata": {},
   "outputs": [],
   "source": [
    "season_theft_crimes_res = season_theft_crimes[season_theft_crimes['Highest Offense Description'] == 'BURGLARY OF RESIDENCE']"
   ]
  },
  {
   "cell_type": "code",
   "execution_count": 46,
   "id": "960d3c59-e170-44e7-aea2-f06c4ba286cb",
   "metadata": {},
   "outputs": [
    {
     "data": {
      "text/html": [
       "<div>\n",
       "<style scoped>\n",
       "    .dataframe tbody tr th:only-of-type {\n",
       "        vertical-align: middle;\n",
       "    }\n",
       "\n",
       "    .dataframe tbody tr th {\n",
       "        vertical-align: top;\n",
       "    }\n",
       "\n",
       "    .dataframe thead th {\n",
       "        text-align: right;\n",
       "    }\n",
       "</style>\n",
       "<table border=\"1\" class=\"dataframe\">\n",
       "  <thead>\n",
       "    <tr style=\"text-align: right;\">\n",
       "      <th></th>\n",
       "      <th>Highest Offense Description</th>\n",
       "      <th>Season</th>\n",
       "    </tr>\n",
       "  </thead>\n",
       "  <tbody>\n",
       "    <tr>\n",
       "      <th>473575</th>\n",
       "      <td>BURGLARY OF RESIDENCE</td>\n",
       "      <td>Fall</td>\n",
       "    </tr>\n",
       "    <tr>\n",
       "      <th>473584</th>\n",
       "      <td>BURGLARY OF RESIDENCE</td>\n",
       "      <td>Winter</td>\n",
       "    </tr>\n",
       "    <tr>\n",
       "      <th>473589</th>\n",
       "      <td>BURGLARY OF RESIDENCE</td>\n",
       "      <td>Winter</td>\n",
       "    </tr>\n",
       "    <tr>\n",
       "      <th>473590</th>\n",
       "      <td>BURGLARY OF RESIDENCE</td>\n",
       "      <td>Spring</td>\n",
       "    </tr>\n",
       "    <tr>\n",
       "      <th>473596</th>\n",
       "      <td>BURGLARY OF RESIDENCE</td>\n",
       "      <td>Spring</td>\n",
       "    </tr>\n",
       "  </tbody>\n",
       "</table>\n",
       "</div>"
      ],
      "text/plain": [
       "       Highest Offense Description  Season\n",
       "473575       BURGLARY OF RESIDENCE    Fall\n",
       "473584       BURGLARY OF RESIDENCE  Winter\n",
       "473589       BURGLARY OF RESIDENCE  Winter\n",
       "473590       BURGLARY OF RESIDENCE  Spring\n",
       "473596       BURGLARY OF RESIDENCE  Spring"
      ]
     },
     "execution_count": 46,
     "metadata": {},
     "output_type": "execute_result"
    }
   ],
   "source": [
    "season_theft_crimes_res.head()"
   ]
  },
  {
   "cell_type": "code",
   "execution_count": 47,
   "id": "1cb6d98e-e35e-491e-8023-396e4c2cb811",
   "metadata": {},
   "outputs": [],
   "source": [
    "season_theft_crimes_res.index.name = 'Index'"
   ]
  },
  {
   "cell_type": "code",
   "execution_count": 48,
   "id": "c401e9a7-1952-41a4-9974-f824f5801b53",
   "metadata": {},
   "outputs": [
    {
     "data": {
      "text/html": [
       "<div>\n",
       "<style scoped>\n",
       "    .dataframe tbody tr th:only-of-type {\n",
       "        vertical-align: middle;\n",
       "    }\n",
       "\n",
       "    .dataframe tbody tr th {\n",
       "        vertical-align: top;\n",
       "    }\n",
       "\n",
       "    .dataframe thead th {\n",
       "        text-align: right;\n",
       "    }\n",
       "</style>\n",
       "<table border=\"1\" class=\"dataframe\">\n",
       "  <thead>\n",
       "    <tr style=\"text-align: right;\">\n",
       "      <th></th>\n",
       "      <th>Highest Offense Description</th>\n",
       "      <th>Season</th>\n",
       "    </tr>\n",
       "    <tr>\n",
       "      <th>Index</th>\n",
       "      <th></th>\n",
       "      <th></th>\n",
       "    </tr>\n",
       "  </thead>\n",
       "  <tbody>\n",
       "    <tr>\n",
       "      <th>473575</th>\n",
       "      <td>BURGLARY OF RESIDENCE</td>\n",
       "      <td>Fall</td>\n",
       "    </tr>\n",
       "    <tr>\n",
       "      <th>473584</th>\n",
       "      <td>BURGLARY OF RESIDENCE</td>\n",
       "      <td>Winter</td>\n",
       "    </tr>\n",
       "    <tr>\n",
       "      <th>473589</th>\n",
       "      <td>BURGLARY OF RESIDENCE</td>\n",
       "      <td>Winter</td>\n",
       "    </tr>\n",
       "    <tr>\n",
       "      <th>473590</th>\n",
       "      <td>BURGLARY OF RESIDENCE</td>\n",
       "      <td>Spring</td>\n",
       "    </tr>\n",
       "    <tr>\n",
       "      <th>473596</th>\n",
       "      <td>BURGLARY OF RESIDENCE</td>\n",
       "      <td>Spring</td>\n",
       "    </tr>\n",
       "  </tbody>\n",
       "</table>\n",
       "</div>"
      ],
      "text/plain": [
       "       Highest Offense Description  Season\n",
       "Index                                     \n",
       "473575       BURGLARY OF RESIDENCE    Fall\n",
       "473584       BURGLARY OF RESIDENCE  Winter\n",
       "473589       BURGLARY OF RESIDENCE  Winter\n",
       "473590       BURGLARY OF RESIDENCE  Spring\n",
       "473596       BURGLARY OF RESIDENCE  Spring"
      ]
     },
     "execution_count": 48,
     "metadata": {},
     "output_type": "execute_result"
    }
   ],
   "source": [
    "season_theft_crimes_res.head()"
   ]
  },
  {
   "cell_type": "code",
   "execution_count": 49,
   "id": "5cb90ca5-ae9b-437f-813c-b8ba935e3bb7",
   "metadata": {},
   "outputs": [
    {
     "data": {
      "text/plain": [
       "True"
      ]
     },
     "execution_count": 49,
     "metadata": {},
     "output_type": "execute_result"
    }
   ],
   "source": [
    "season_theft_crimes_res.index.is_monotonic_increasing"
   ]
  },
  {
   "cell_type": "code",
   "execution_count": 50,
   "id": "6a154499-0339-489f-beb6-9b1c26ddaad8",
   "metadata": {},
   "outputs": [
    {
     "name": "stderr",
     "output_type": "stream",
     "text": [
      "C:\\Users\\cynth\\AppData\\Local\\Temp\\ipykernel_9984\\473653629.py:1: FutureWarning: The default of observed=False is deprecated and will be changed to True in a future version of pandas. Pass observed=False to retain current behavior or observed=True to adopt the future default and silence this warning.\n",
      "  season_theft_crimes_res_gb = season_theft_crimes_res.groupby('Season')['Highest Offense Description'].count()\n"
     ]
    }
   ],
   "source": [
    "season_theft_crimes_res_gb = season_theft_crimes_res.groupby('Season')['Highest Offense Description'].count()"
   ]
  },
  {
   "cell_type": "code",
   "execution_count": 51,
   "id": "c45f46d3-4c9f-4736-be8e-27a231249655",
   "metadata": {},
   "outputs": [
    {
     "data": {
      "text/plain": [
       "Season\n",
       "Fall      21537\n",
       "Spring    20813\n",
       "Summer    20426\n",
       "Winter    19239\n",
       "Name: Highest Offense Description, dtype: int64"
      ]
     },
     "execution_count": 51,
     "metadata": {},
     "output_type": "execute_result"
    }
   ],
   "source": [
    "season_theft_crimes_res_gb"
   ]
  },
  {
   "cell_type": "code",
   "execution_count": 52,
   "id": "c1a8e655-90a1-4080-b31a-c48f1570995b",
   "metadata": {},
   "outputs": [
    {
     "data": {
      "text/plain": [
       "Text(0, 0.5, 'Occurrances')"
      ]
     },
     "execution_count": 52,
     "metadata": {},
     "output_type": "execute_result"
    },
    {
     "data": {
      "image/png": "[encoded data removed]",
      "text/plain": [
       "<Figure size 640x480 with 1 Axes>"
      ]
     },
     "metadata": {},
     "output_type": "display_data"
    }
   ],
   "source": [
    "Seasons = [\"Fall\", \"Spring\", \"Summer\", \"Winter\"]\n",
    "Occurrances = [21537, 20813, 20426, 19239]\n",
    "plt.bar(Seasons, Occurrances)\n",
    "\n",
    "# Set chart title and labels\n",
    "plt.title('No. of Residential Burglaries by Season 2003 - 2023')\n",
    "plt.xlabel('Seasons')\n",
    "plt.ylabel('Occurrances')"
   ]
  },
  {
   "cell_type": "code",
   "execution_count": 78,
   "id": "64bb438d-59e3-498c-8ef5-80fdaa6e0fef",
   "metadata": {},
   "outputs": [],
   "source": [
    "season_theft_crimes_shoplift = season_theft_crimes[season_theft_crimes['Highest Offense Description'] == 'THEFT BY SHOPLIFTING']"
   ]
  },
  {
   "cell_type": "code",
   "execution_count": 79,
   "id": "aa1b7681-0f76-4cb6-a05e-3d722ac7dd6e",
   "metadata": {},
   "outputs": [
    {
     "name": "stderr",
     "output_type": "stream",
     "text": [
      "C:\\Users\\cynth\\AppData\\Local\\Temp\\ipykernel_9984\\1265304022.py:1: FutureWarning: The default of observed=False is deprecated and will be changed to True in a future version of pandas. Pass observed=False to retain current behavior or observed=True to adopt the future default and silence this warning.\n",
      "  season_theft_crimes_shoplift_gb = season_theft_crimes_shoplift.groupby('Season')['Highest Offense Description'].count()\n"
     ]
    }
   ],
   "source": [
    "season_theft_crimes_shoplift_gb = season_theft_crimes_shoplift.groupby('Season')['Highest Offense Description'].count()"
   ]
  },
  {
   "cell_type": "code",
   "execution_count": 80,
   "id": "cc18e053-542f-4862-86b4-60980cb8c886",
   "metadata": {},
   "outputs": [
    {
     "data": {
      "text/plain": [
       "Season\n",
       "Fall      13273\n",
       "Spring    13554\n",
       "Summer    13791\n",
       "Winter    13730\n",
       "Name: Highest Offense Description, dtype: int64"
      ]
     },
     "execution_count": 80,
     "metadata": {},
     "output_type": "execute_result"
    }
   ],
   "source": [
    "season_theft_crimes_shoplift_gb"
   ]
  },
  {
   "cell_type": "code",
   "execution_count": 137,
   "id": "62b82749-bf0a-48fc-b4f4-60a1708d9a65",
   "metadata": {},
   "outputs": [
    {
     "data": {
      "text/plain": [
       "Text(0, 0.5, 'Incidences')"
      ]
     },
     "execution_count": 137,
     "metadata": {},
     "output_type": "execute_result"
    },
    {
     "data": {
      "image/png": "[encoded data removed]",
      "text/plain": [
       "<Figure size 640x480 with 1 Axes>"
      ]
     },
     "metadata": {},
     "output_type": "display_data"
    }
   ],
   "source": [
    "Seasons = [\"Fall\", \"Spring\", \"Summer\", \"Winter\"]\n",
    "Occurrances = [13273, 13554, 13791, 13730]\n",
    "colors = ['gray']\n",
    "plt.bar(Seasons, Occurrances, color=colors)\n",
    "\n",
    "# Set chart title and labels\n",
    "plt.title('No. of Reported Shoplift Incidences by Season 2003 - 2023')\n",
    "plt.xlabel('Seasons')\n",
    "plt.ylabel('Incidences')"
   ]
  },
  {
   "cell_type": "code",
   "execution_count": 82,
   "id": "f2c22c00-e5f7-4159-8680-ba0e8fc3ee9b",
   "metadata": {},
   "outputs": [
    {
     "name": "stdout",
     "output_type": "stream",
     "text": [
      "82077\n"
     ]
    }
   ],
   "source": [
    "num_rows_theft_rs = len(season_theft_crimes_res)\n",
    "print(num_rows_theft_rs)  # Output: 3"
   ]
  },
  {
   "cell_type": "code",
   "execution_count": 83,
   "id": "985d3429-8114-4a29-b533-11149ce9a72c",
   "metadata": {},
   "outputs": [
    {
     "name": "stdout",
     "output_type": "stream",
     "text": [
      "54376\n"
     ]
    }
   ],
   "source": [
    "num_rows_shoplift = len(season_theft_crimes_shoplift)\n",
    "print(num_rows_shoplift)  # Output: 3"
   ]
  },
  {
   "cell_type": "code",
   "execution_count": 89,
   "id": "bf6c5f32-bbc2-4f6d-922f-2fd027ff1983",
   "metadata": {},
   "outputs": [],
   "source": [
    "season_theft_crimes_BICYCLE = season_theft_crimes[season_theft_crimes['Highest Offense Description'] == 'THEFT OF BICYCLE']"
   ]
  },
  {
   "cell_type": "code",
   "execution_count": 90,
   "id": "4537f99b-31c6-4bbf-8db7-4ffbdf967efc",
   "metadata": {},
   "outputs": [
    {
     "name": "stderr",
     "output_type": "stream",
     "text": [
      "C:\\Users\\cynth\\AppData\\Local\\Temp\\ipykernel_9984\\689256341.py:1: FutureWarning: The default of observed=False is deprecated and will be changed to True in a future version of pandas. Pass observed=False to retain current behavior or observed=True to adopt the future default and silence this warning.\n",
      "  season_theft_crimes_BICYCLE_gb = season_theft_crimes_BICYCLE.groupby('Season')['Highest Offense Description'].count()\n"
     ]
    }
   ],
   "source": [
    "season_theft_crimes_BICYCLE_gb = season_theft_crimes_BICYCLE.groupby('Season')['Highest Offense Description'].count()"
   ]
  },
  {
   "cell_type": "code",
   "execution_count": 91,
   "id": "3156b4d0-7163-4a49-95e4-1fbaf7440e2e",
   "metadata": {},
   "outputs": [
    {
     "data": {
      "text/plain": [
       "Season\n",
       "Fall      6284\n",
       "Spring    6039\n",
       "Summer    6789\n",
       "Winter    5072\n",
       "Name: Highest Offense Description, dtype: int64"
      ]
     },
     "execution_count": 91,
     "metadata": {},
     "output_type": "execute_result"
    }
   ],
   "source": [
    "season_theft_crimes_BICYCLE_gb"
   ]
  },
  {
   "cell_type": "code",
   "execution_count": 136,
   "id": "98123675-1506-41e4-8d82-f3523a21d12a",
   "metadata": {},
   "outputs": [
    {
     "data": {
      "text/plain": [
       "Text(0, 0.5, 'Incidences')"
      ]
     },
     "execution_count": 136,
     "metadata": {},
     "output_type": "execute_result"
    },
    {
     "data": {
      "image/png": "[encoded data removed]",
      "text/plain": [
       "<Figure size 640x480 with 1 Axes>"
      ]
     },
     "metadata": {},
     "output_type": "display_data"
    }
   ],
   "source": [
    "Seasons = [\"Fall\", \"Spring\", \"Summer\", \"Winter\"]\n",
    "Occurrances = [6284, 6039, 6789, 5072]\n",
    "colors = ['orange']\n",
    "plt.bar(Seasons, Occurrances, color=colors)\n",
    "\n",
    "# Set chart title and labels\n",
    "plt.title('No. of Bicycle Thefts Reported by Season 2003 - 2023')\n",
    "plt.xlabel('Seasons')\n",
    "plt.ylabel('Incidences')"
   ]
  },
  {
   "cell_type": "code",
   "execution_count": 129,
   "id": "163a9901-5884-4d44-9d0c-b5059506b073",
   "metadata": {},
   "outputs": [],
   "source": [
    "season_theft_crimes_IDENTITY = season_theft_crimes[season_theft_crimes['Highest Offense Description'] == 'IDENTITY THEFT']"
   ]
  },
  {
   "cell_type": "code",
   "execution_count": 130,
   "id": "e85fd5d1-3da5-468c-aa3e-8a6e82835775",
   "metadata": {},
   "outputs": [
    {
     "name": "stderr",
     "output_type": "stream",
     "text": [
      "C:\\Users\\cynth\\AppData\\Local\\Temp\\ipykernel_9984\\3953253815.py:1: FutureWarning: The default of observed=False is deprecated and will be changed to True in a future version of pandas. Pass observed=False to retain current behavior or observed=True to adopt the future default and silence this warning.\n",
      "  season_theft_crimes_IDENTITY_gb = season_theft_crimes_IDENTITY.groupby('Season')['Highest Offense Description'].count()\n"
     ]
    }
   ],
   "source": [
    "season_theft_crimes_IDENTITY_gb = season_theft_crimes_IDENTITY.groupby('Season')['Highest Offense Description'].count()"
   ]
  },
  {
   "cell_type": "code",
   "execution_count": 131,
   "id": "8a008d27-73ae-4053-94d2-6a24743c684b",
   "metadata": {},
   "outputs": [
    {
     "data": {
      "text/plain": [
       "Season\n",
       "Fall      6380\n",
       "Spring    7645\n",
       "Summer    6494\n",
       "Winter    8208\n",
       "Name: Highest Offense Description, dtype: int64"
      ]
     },
     "execution_count": 131,
     "metadata": {},
     "output_type": "execute_result"
    }
   ],
   "source": [
    "season_theft_crimes_IDENTITY_gb"
   ]
  },
  {
   "cell_type": "code",
   "execution_count": 135,
   "id": "62a6f27b-2f77-45cb-b14b-5f376a75d997",
   "metadata": {},
   "outputs": [
    {
     "data": {
      "text/plain": [
       "Text(0, 0.5, 'Incidences')"
      ]
     },
     "execution_count": 135,
     "metadata": {},
     "output_type": "execute_result"
    },
    {
     "data": {
      "image/png": "[encoded data removed]",
      "text/plain": [
       "<Figure size 640x480 with 1 Axes>"
      ]
     },
     "metadata": {},
     "output_type": "display_data"
    }
   ],
   "source": [
    "Seasons = [\"Fall\", \"Spring\", \"Summer\", \"Winter\"]\n",
    "Occurrances = [6380, 7645, 6494, 8208]\n",
    "colors = ['green']\n",
    "plt.bar(Seasons, Occurrances, color=colors)\n",
    "\n",
    "# Set chart title and labels\n",
    "plt.title('No. of Identity Thefts Reported by Season 2003 - 2023')\n",
    "plt.xlabel('Seasons')\n",
    "plt.ylabel('Incidences')"
   ]
  },
  {
   "cell_type": "code",
   "execution_count": null,
   "id": "32a05a15-fe4d-4318-a84b-769507b6f3c7",
   "metadata": {},
   "outputs": [],
   "source": []
  }
 ],
 "metadata": {
  "kernelspec": {
   "display_name": "Python 3 (ipykernel)",
   "language": "python",
   "name": "python3"
  },
  "language_info": {
   "codemirror_mode": {
    "name": "ipython",
    "version": 3
   },
   "file_extension": ".py",
   "mimetype": "text/x-python",
   "name": "python",
   "nbconvert_exporter": "python",
   "pygments_lexer": "ipython3",
   "version": "3.11.7"
  }
 },
 "nbformat": 4,
 "nbformat_minor": 5
}
